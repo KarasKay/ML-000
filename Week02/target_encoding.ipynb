{
  "nbformat": 4,
  "nbformat_minor": 0,
  "metadata": {
    "colab": {
      "name": "target_encoding.ipynb",
      "provenance": [],
      "collapsed_sections": []
    },
    "kernelspec": {
      "name": "python3",
      "display_name": "Python 3"
    }
  },
  "cells": [
    {
      "cell_type": "code",
      "metadata": {
        "id": "H6jYIRTN_6Z9"
      },
      "source": [
        "# coding = 'utf-8'\r\n",
        "import numpy as np\r\n",
        "import pandas as pd\r\n",
        "import timeit "
      ],
      "execution_count": 2,
      "outputs": []
    },
    {
      "cell_type": "code",
      "metadata": {
        "id": "EBvpMyuj_9XS"
      },
      "source": [
        "def target_mean_v1(data, y_name, x_name):\r\n",
        "    result = np.zeros(data.shape[0])\r\n",
        "    for i in range(data.shape[0]):\r\n",
        "        groupby_result = data[data.index != i].groupby([x_name], as_index=False).agg(['mean', 'count'])\r\n",
        "        result[i] = groupby_result.loc[groupby_result.index == data.loc[i, x_name], (y_name, 'mean')]\r\n",
        "    return result"
      ],
      "execution_count": 3,
      "outputs": []
    },
    {
      "cell_type": "code",
      "metadata": {
        "id": "_AWh1eV1ACG6"
      },
      "source": [
        "def target_mean_v2(data, y_name, x_name):\r\n",
        "    result = np.zeros(data.shape[0])\r\n",
        "    value_dict = dict()\r\n",
        "    count_dict = dict()\r\n",
        "    for i in range(data.shape[0]):\r\n",
        "        if data.loc[i, x_name] not in value_dict.keys():\r\n",
        "            value_dict[data.loc[i, x_name]] = data.loc[i, y_name]\r\n",
        "            count_dict[data.loc[i, x_name]] = 1\r\n",
        "        else:\r\n",
        "            value_dict[data.loc[i, x_name]] += data.loc[i, y_name]\r\n",
        "            count_dict[data.loc[i, x_name]] += 1\r\n",
        "    for i in range(data.shape[0]):\r\n",
        "        result[i] = (value_dict[data.loc[i, x_name]] - data.loc[i, y_name]) / (count_dict[data.loc[i, x_name]] - 1)\r\n",
        "    return result"
      ],
      "execution_count": 4,
      "outputs": []
    },
    {
      "cell_type": "code",
      "metadata": {
        "id": "8nbtQb_NAEEw"
      },
      "source": [
        "y = np.random.randint(2, size=(5000, 1))\r\n",
        "x = np.random.randint(10, size=(5000, 1))\r\n",
        "data = pd.DataFrame(np.concatenate([y, x], axis=1), columns=['y', 'x'])\r\n",
        "    # result_1 = target_mean_v1(data, 'y', 'x')\r\n",
        "    # result_2 = target_mean_v2(data, 'y', 'x')\r\n",
        "    # diff = np.linalg.norm(result_1 - result_2)"
      ],
      "execution_count": 5,
      "outputs": []
    },
    {
      "cell_type": "code",
      "metadata": {
        "colab": {
          "base_uri": "https://localhost:8080/"
        },
        "id": "wwVIt1YMAGYa",
        "outputId": "25d98262-6176-4011-bcf7-184f37774b0f"
      },
      "source": [
        "%%timeit\r\n",
        "result_1 = target_mean_v1(data, 'y', 'x')"
      ],
      "execution_count": 6,
      "outputs": [
        {
          "output_type": "stream",
          "text": [
            "1 loop, best of 3: 24.8 s per loop\n"
          ],
          "name": "stdout"
        }
      ]
    },
    {
      "cell_type": "code",
      "metadata": {
        "colab": {
          "base_uri": "https://localhost:8080/"
        },
        "id": "MmJPJOjvIUxm",
        "outputId": "10870143-445f-4ced-8b00-b13253a3de93"
      },
      "source": [
        "%%timeit\r\n",
        "result_2 = target_mean_v2(data, 'y', 'x')"
      ],
      "execution_count": 26,
      "outputs": [
        {
          "output_type": "stream",
          "text": [
            "1 loop, best of 3: 263 ms per loop\n"
          ],
          "name": "stdout"
        }
      ]
    },
    {
      "cell_type": "code",
      "metadata": {
        "colab": {
          "base_uri": "https://localhost:8080/"
        },
        "id": "qtndNy9cDzZ4",
        "outputId": "4fca3e9e-3940-429c-d497-2983aa61aa33"
      },
      "source": [
        "%load_ext Cython"
      ],
      "execution_count": 12,
      "outputs": [
        {
          "output_type": "stream",
          "text": [
            "The Cython extension is already loaded. To reload it, use:\n",
            "  %reload_ext Cython\n"
          ],
          "name": "stdout"
        }
      ]
    },
    {
      "cell_type": "code",
      "metadata": {
        "id": "c7Zl6pjHCEi8"
      },
      "source": [
        "%%cython\r\n",
        "\r\n",
        "import numpy as np\r\n",
        "cimport numpy as cnp \r\n",
        "cimport cython\r\n",
        "\r\n",
        "@cython.boundscheck(False)\r\n",
        "@cython.wraparound(False)\r\n",
        "def target_mean_v3(data,y_name,x_name):\r\n",
        "    cdef cnp.ndarray[cnp.double_t] result\r\n",
        "    result = np.zeros(data.shape[0])\r\n",
        "    value_dict = dict()\r\n",
        "    count_dict = dict()\r\n",
        "    for i in range(data.shape[0]):\r\n",
        "        if data.loc[i, x_name] not in value_dict.keys():\r\n",
        "            value_dict[data.loc[i, x_name]] = data.loc[i, y_name]\r\n",
        "            count_dict[data.loc[i, x_name]] = 1\r\n",
        "        else:\r\n",
        "            value_dict[data.loc[i, x_name]] += data.loc[i, y_name]\r\n",
        "            count_dict[data.loc[i, x_name]] += 1\r\n",
        "    for i in range(data.shape[0]):\r\n",
        "        result[i] = (value_dict[data.loc[i, x_name]] - data.loc[i, y_name]) / (count_dict[data.loc[i, x_name]] - 1)\r\n",
        "    return result"
      ],
      "execution_count": 28,
      "outputs": []
    },
    {
      "cell_type": "code",
      "metadata": {
        "colab": {
          "base_uri": "https://localhost:8080/"
        },
        "id": "KiPb6F6DDygm",
        "outputId": "1ec317d0-2d06-457d-bfe3-5428fd35ebd1"
      },
      "source": [
        "%%timeit\r\n",
        "result_3 = target_mean_v3(data, 'y', 'x')"
      ],
      "execution_count": 31,
      "outputs": [
        {
          "output_type": "stream",
          "text": [
            "1 loop, best of 3: 265 ms per loop\n"
          ],
          "name": "stdout"
        }
      ]
    },
    {
      "cell_type": "code",
      "metadata": {
        "id": "9yO_sygZLY_g"
      },
      "source": [
        "%%cython\r\n",
        "\r\n",
        "import numpy as np\r\n",
        "cimport numpy as cnp \r\n",
        "cimport cython\r\n",
        "\r\n",
        "@cython.boundscheck(False)\r\n",
        "@cython.wraparound(False)\r\n",
        "cpdef target_mean_v4(data,str y_name, str x_name):\r\n",
        "    cdef cnp.ndarray[cnp.double_t] result\r\n",
        "    cdef cnp.ndarray[long] x_value = data[x_name].values\r\n",
        "    cdef cnp.ndarray[long] y_value = data[y_name].values\r\n",
        "    cdef dict value_dict = {}\r\n",
        "    cdef dict count_dict = {}\r\n",
        "    cdef int data_len = data.shape[0]\r\n",
        "    cdef int i=0\r\n",
        "\r\n",
        "    result = np.zeros(data_len)\r\n",
        "    \r\n",
        "    for i from 0<=i<data_len:\r\n",
        "      index = x_value[i]\r\n",
        "      if index not in value_dict.keys():\r\n",
        "          value_dict[index] = y_value[i]\r\n",
        "          count_dict[index] = 1\r\n",
        "      else:\r\n",
        "          value_dict[index] += y_value[i]\r\n",
        "          count_dict[index] += 1\r\n",
        "        \r\n",
        "    for i from 0<=i<data_len:\r\n",
        "        index = x_value[i]\r\n",
        "        result[i] = (value_dict[index] - y_value[i]) / (count_dict[index] - 1)\r\n",
        "\r\n",
        "    return result"
      ],
      "execution_count": 59,
      "outputs": []
    },
    {
      "cell_type": "code",
      "metadata": {
        "id": "_gOLMAxfogGT"
      },
      "source": [
        ""
      ],
      "execution_count": null,
      "outputs": []
    },
    {
      "cell_type": "code",
      "metadata": {
        "colab": {
          "base_uri": "https://localhost:8080/"
        },
        "id": "4QZHyN95kVnD",
        "outputId": "7b63e606-a82e-410e-c192-e1f69f9a7cbf"
      },
      "source": [
        "%%timeit\r\n",
        "result_2 = target_mean_v2(data, 'y', 'x')\r\n",
        "result_3 = target_mean_v3(data, 'y', 'x')\r\n",
        "diff = np.linalg.norm(result_3 - result_2)"
      ],
      "execution_count": 34,
      "outputs": [
        {
          "output_type": "stream",
          "text": [
            "1 loop, best of 3: 529 ms per loop\n"
          ],
          "name": "stdout"
        }
      ]
    },
    {
      "cell_type": "code",
      "metadata": {
        "colab": {
          "base_uri": "https://localhost:8080/"
        },
        "id": "kZTBfx81ktV4",
        "outputId": "877bba9b-3666-4782-bba9-0b2592554e87"
      },
      "source": [
        "%%timeit\r\n",
        "result_3 = target_mean_v3(data, 'y', 'x')"
      ],
      "execution_count": 35,
      "outputs": [
        {
          "output_type": "stream",
          "text": [
            "1 loop, best of 3: 268 ms per loop\n"
          ],
          "name": "stdout"
        }
      ]
    },
    {
      "cell_type": "code",
      "metadata": {
        "colab": {
          "base_uri": "https://localhost:8080/"
        },
        "id": "C9F6x8JJRVVA",
        "outputId": "9efa37ce-83c7-4a6e-f7ff-ecedc22dea44"
      },
      "source": [
        "%%timeit\r\n",
        "result_4 = target_mean_v4(data, 'y', 'x')"
      ],
      "execution_count": 60,
      "outputs": [
        {
          "output_type": "stream",
          "text": [
            "1000 loops, best of 3: 1.15 ms per loop\n"
          ],
          "name": "stdout"
        }
      ]
    },
    {
      "cell_type": "code",
      "metadata": {
        "id": "0am3YKtGolnu"
      },
      "source": [
        ""
      ],
      "execution_count": null,
      "outputs": []
    },
    {
      "cell_type": "code",
      "metadata": {
        "id": "qJR-JvoSonhJ"
      },
      "source": [
        "%%cython\r\n",
        "\r\n",
        "import numpy as np\r\n",
        "cimport numpy as cnp \r\n",
        "cimport cython\r\n",
        "from cython.parallel import prange\r\n",
        "\r\n",
        "@cython.boundscheck(False)\r\n",
        "@cython.wraparound(False)\r\n",
        "cpdef target_mean_v5(data,str y_name, str x_name):\r\n",
        "    cdef cnp.ndarray[cnp.double_t] result\r\n",
        "    cdef cnp.ndarray[long] x_value = data[x_name].values\r\n",
        "    cdef cnp.ndarray[long] y_value = data[y_name].values\r\n",
        "    cdef long[:] value_arr = np.zeros(10).astype(long)\r\n",
        "    cdef long[:] count_arr = np.zeros(10).astype(long)\r\n",
        "    cdef int data_len = data.shape[0]\r\n",
        "    cdef int i=0\r\n",
        "\r\n",
        "    result = np.zeros(data_len)\r\n",
        "    \r\n",
        "    for i in prange(data_len, nogil=True):\r\n",
        "      value_arr[x_value[i]] += y_value[i]\r\n",
        "      count_arr[x_value[i]] += 1\r\n",
        "        \r\n",
        "    for i in prange(data_len, nogil=True):\r\n",
        "        result[i] = (value_arr[x_value[i]] - y_value[i]) / (count_arr[x_value[i]] - 1)\r\n",
        "\r\n",
        "    return result"
      ],
      "execution_count": 65,
      "outputs": []
    },
    {
      "cell_type": "code",
      "metadata": {
        "colab": {
          "base_uri": "https://localhost:8080/"
        },
        "id": "OxaKQrtronMq",
        "outputId": "f1cd1109-49a3-4996-e855-99a385e8d3d9"
      },
      "source": [
        "%%timeit\r\n",
        "result_5 = target_mean_v5(data, 'y', 'x')"
      ],
      "execution_count": 66,
      "outputs": [
        {
          "output_type": "stream",
          "text": [
            "The slowest run took 45.98 times longer than the fastest. This could mean that an intermediate result is being cached.\n",
            "10000 loops, best of 3: 45.4 µs per loop\n"
          ],
          "name": "stdout"
        }
      ]
    },
    {
      "cell_type": "code",
      "metadata": {
        "id": "-lxc7IyMpqpC"
      },
      "source": [
        ""
      ],
      "execution_count": null,
      "outputs": []
    }
  ]
}